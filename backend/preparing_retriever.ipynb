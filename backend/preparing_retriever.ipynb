{
 "cells": [
  {
   "cell_type": "code",
   "execution_count": 57,
   "metadata": {},
   "outputs": [],
   "source": [
    "import pandas as pd\n",
    "import numpy as np\n",
    "import os\n",
    "from dotenv import load_dotenv"
   ]
  },
  {
   "cell_type": "code",
   "execution_count": 58,
   "metadata": {},
   "outputs": [
    {
     "data": {
      "text/plain": [
       "True"
      ]
     },
     "execution_count": 58,
     "metadata": {},
     "output_type": "execute_result"
    }
   ],
   "source": [
    "load_dotenv()"
   ]
  },
  {
   "cell_type": "code",
   "execution_count": 59,
   "metadata": {},
   "outputs": [],
   "source": [
    "os.environ['PINECONE_API_KEY']=os.getenv('PINECONE_API_KEY')\n",
    "os.environ['PINECONE_INDEX_NAME']=os.getenv('PINECONE_INDEX_NAME')\n",
    "os.environ[\"COHERE_API_KEY\"]  = os.getenv('COHERE_API_KEY')"
   ]
  },
  {
   "cell_type": "code",
   "execution_count": 60,
   "metadata": {},
   "outputs": [],
   "source": [
    "from langchain_community.embeddings import HuggingFaceEmbeddings\n",
    "from langchain_pinecone import PineconeVectorStore\n",
    "from langchain.chains import create_history_aware_retriever, create_retrieval_chain\n",
    "from langchain.chains.combine_documents import create_stuff_documents_chain\n",
    "from langchain_community.chat_message_histories import ChatMessageHistory\n",
    "from langchain_core.chat_history import BaseChatMessageHistory\n",
    "from langchain_core.prompts import ChatPromptTemplate, MessagesPlaceholder\n",
    "from langchain_core.runnables.history import RunnableWithMessageHistory\n",
    "from langchain_cohere import ChatCohere\n",
    "\n",
    "### initialize retriever and llm ###\n",
    "embeddings = HuggingFaceEmbeddings()\n",
    "index_name = \"edu-website-chatbot\"\n",
    "vectorstore = PineconeVectorStore(index_name=index_name, embedding=embeddings)\n",
    "retriever = vectorstore.as_retriever(search_kwargs={'k': 3})\n",
    "llm = ChatCohere(model=\"command-r\")\n",
    "\n",
    "### Contextualize question ###\n",
    "contextualize_q_system_prompt = \"\"\"Given a chat history and the latest user question \\\n",
    "which might reference context in the chat history, formulate a standalone question \\\n",
    "which can be understood without the chat history. Do NOT answer the question, \\\n",
    "just reformulate it if needed and otherwise return it as is.\"\"\"\n",
    "\n",
    "contextualize_q_prompt = ChatPromptTemplate.from_messages(\n",
    "    [\n",
    "        (\"system\", contextualize_q_system_prompt),\n",
    "        MessagesPlaceholder(\"chat_history\"),\n",
    "        (\"human\", \"{input}\"),\n",
    "    ]\n",
    ")\n",
    "\n",
    "history_aware_retriever = create_history_aware_retriever(\n",
    "    llm, retriever, contextualize_q_prompt\n",
    ")\n",
    "\n",
    "### Answer question ###\n",
    "qa_system_prompt = \"\"\"You are an sales agest for ed-tech website . \\\n",
    "Use the following pieces of retrieved context to answer the question about our website couses. \\\n",
    "If the retrieved context does not contain any information related to user's query, \\\n",
    "just respond \"Please wait for a while, our team will answer you soon\". \\\n",
    "Do not use your knowledge to answer any query, remain stick to the context provided.\\\n",
    "Use three sentences maximum and keep the answer concise.\\\n",
    "\n",
    "Context : {context}\"\"\"\n",
    "qa_prompt = ChatPromptTemplate.from_messages(\n",
    "    [\n",
    "        (\"system\", qa_system_prompt),\n",
    "        MessagesPlaceholder(\"chat_history\"),\n",
    "        (\"human\", \"{input}\"),\n",
    "    ]\n",
    ")\n",
    "question_answer_chain = create_stuff_documents_chain(llm, qa_prompt)\n",
    "\n",
    "rag_chain = create_retrieval_chain(history_aware_retriever, question_answer_chain)\n"
   ]
  },
  {
   "cell_type": "code",
   "execution_count": 61,
   "metadata": {},
   "outputs": [],
   "source": [
    "chat_history=[]"
   ]
  },
  {
   "cell_type": "code",
   "execution_count": 62,
   "metadata": {},
   "outputs": [],
   "source": [
    "from langchain_core.messages import HumanMessage\n",
    "\n",
    "question = \"What is Task Decomposition?\"\n",
    "ai_msg_1 = rag_chain.invoke({\"input\": question, \"chat_history\": chat_history})\n",
    "chat_history.extend([HumanMessage(content=question), ai_msg_1[\"answer\"]])"
   ]
  },
  {
   "cell_type": "code",
   "execution_count": 65,
   "metadata": {},
   "outputs": [
    {
     "data": {
      "text/plain": [
       "ChatMessageHistory(messages=[HumanMessage(content='How does OpenAI work?'), AIMessage(content='Please wait for a while, our team will answer you soon.')])"
      ]
     },
     "execution_count": 65,
     "metadata": {},
     "output_type": "execute_result"
    }
   ],
   "source": [
    "chat_history"
   ]
  },
  {
   "cell_type": "code",
   "execution_count": 67,
   "metadata": {},
   "outputs": [
    {
     "data": {
      "text/plain": [
       "'Task decomposition is a process where complex tasks are broken down into simpler subtasks or components. It is a valuable technique to make challenging tasks more manageable and organized. Each subtask has a clear objective and contributes to the completion of the broader goal.'"
      ]
     },
     "execution_count": 67,
     "metadata": {},
     "output_type": "execute_result"
    }
   ],
   "source": [
    "ai_msg_1[\"answer\"]"
   ]
  },
  {
   "cell_type": "code",
   "execution_count": 63,
   "metadata": {},
   "outputs": [
    {
     "name": "stdout",
     "output_type": "stream",
     "text": [
      "[{'type': 'human', 'content': 'How does OpenAI work?'}, {'type': 'ai', 'content': 'Please wait for a while, our team will answer you soon.'}]\n",
      "[[HumanMessage(content='How does OpenAI work?')], AIMessage(content='Please wait for a while, our team will answer you soon.')]\n"
     ]
    }
   ],
   "source": [
    "from langchain_core.messages import ChatMessage, HumanMessage, AIMessage\n",
    "\n",
    "def convert_chat_history(history):\n",
    "  \"\"\"\n",
    "  Converts a ChatMessageHistory object to a dictionary and vice versa.\n",
    "\n",
    "  Args:\n",
    "      history: A ChatMessageHistory object or a dictionary representing chat history.\n",
    "\n",
    "  Returns:\n",
    "      A dictionary representing the chat history or a ChatMessageHistory object\n",
    "      reconstructed from the dictionary.\n",
    "  \"\"\"\n",
    "  messages = []\n",
    "  if isinstance(history, ChatMessageHistory):\n",
    "    for message in history.messages:\n",
    "      if isinstance(message, HumanMessage):\n",
    "        messages.append({\"type\": \"human\", \"content\": message.content})\n",
    "      elif isinstance(message, AIMessage):\n",
    "        messages.append({\"type\": \"ai\", \"content\": message.content})\n",
    "  else:\n",
    "    for message in history:\n",
    "      if message[\"type\"] == \"human\":\n",
    "        messages.append(HumanMessage(content=message[\"content\"]))\n",
    "      elif message[\"type\"] == \"ai\":\n",
    "        messages.append(AIMessage(content=message[\"content\"]))\n",
    "  return messages\n",
    "\n",
    "# Example Usage\n",
    "chat_history = ChatMessageHistory(messages=[HumanMessage(content='How does OpenAI work?'), AIMessage(content='Please wait for a while, our team will answer you soon.')])\n",
    "\n",
    "# Convert to dictionary\n",
    "history_dict = convert_chat_history(chat_history)\n",
    "print(history_dict)\n",
    "\n",
    "# Convert back to ChatMessageHistory\n",
    "new_history = convert_chat_history(history_dict)\n",
    "print(new_history)  # Access messages directly for printing\n"
   ]
  },
  {
   "cell_type": "code",
   "execution_count": null,
   "metadata": {},
   "outputs": [],
   "source": []
  }
 ],
 "metadata": {
  "kernelspec": {
   "display_name": "Python 3",
   "language": "python",
   "name": "python3"
  },
  "language_info": {
   "codemirror_mode": {
    "name": "ipython",
    "version": 3
   },
   "file_extension": ".py",
   "mimetype": "text/x-python",
   "name": "python",
   "nbconvert_exporter": "python",
   "pygments_lexer": "ipython3",
   "version": "3.11.5"
  }
 },
 "nbformat": 4,
 "nbformat_minor": 2
}
