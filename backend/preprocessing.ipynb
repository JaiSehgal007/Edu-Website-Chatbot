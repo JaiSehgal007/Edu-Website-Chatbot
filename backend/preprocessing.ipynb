{
 "cells": [
  {
   "cell_type": "markdown",
   "metadata": {},
   "source": [
    "# Preparing FAQ Vectorstore"
   ]
  },
  {
   "cell_type": "code",
   "execution_count": 2,
   "metadata": {},
   "outputs": [],
   "source": [
    "import pandas as pd\n",
    "import numpy as np\n",
    "import os\n",
    "from dotenv import load_dotenv"
   ]
  },
  {
   "cell_type": "code",
   "execution_count": 3,
   "metadata": {},
   "outputs": [
    {
     "data": {
      "text/plain": [
       "True"
      ]
     },
     "execution_count": 3,
     "metadata": {},
     "output_type": "execute_result"
    }
   ],
   "source": [
    "load_dotenv()"
   ]
  },
  {
   "cell_type": "code",
   "execution_count": 4,
   "metadata": {},
   "outputs": [],
   "source": [
    "os.environ['PINECONE_API_KEY']=os.getenv('PINECONE_API_KEY')\n",
    "os.environ['PINECONE_INDEX_NAME']=os.getenv('PINECONE_INDEX_NAME')"
   ]
  },
  {
   "cell_type": "code",
   "execution_count": 4,
   "metadata": {},
   "outputs": [],
   "source": [
    "df=pd.read_csv(\"./Dataset/appendix.csv\")"
   ]
  },
  {
   "cell_type": "markdown",
   "metadata": {},
   "source": [
    "1. Advance/Beginner seperation -> %enrolled based (modify column)\n",
    "2. Learn at own pace -> always true\n",
    "3. what kind of assignment do you give -> static answer\n",
    "4. Prerequirements -> No prerequirements (add column)\n",
    "5. Course duration -> total course hours\n",
    "6. Course Cost -> add column with random values\n",
    "7. Doubt Support -> static answer\n",
    "8. Placement Opportunities -> add random column\n",
    "9. How is course different from others -> static answer\n",
    "10. Money back gurantee -> static answer\n",
    "11. Course relevancy -> use Launch date column to answer\n",
    "12. Good DSA is prerequisites -> leave to model\n",
    "13. How much I can make -> generate random column for range\n",
    "14. is EMI Allowed -> if (paid) -> random\n",
    "15. Financial Aid -> Add column (random)\n",
    "16. Certification -> certification column\n",
    "17. Where to get testimonials -> static answer(in course reviews)\n",
    "18. Mentor -> Instructor\n",
    "19. Online or Offline -> Add random column"
   ]
  },
  {
   "cell_type": "code",
   "execution_count": 5,
   "metadata": {},
   "outputs": [
    {
     "data": {
      "text/plain": [
       "Index(['Institution', 'Course Number', 'Launch Date', 'Course Title',\n",
       "       'Instructors', 'Course Subject', 'Year', 'Honor Code Certificates',\n",
       "       'Participants (Course Content Accessed)',\n",
       "       'Audited (> 50% Course Content Accessed)', 'Certified', '% Audited',\n",
       "       '% Certified', '% Certified of > 50% Course Content Accessed',\n",
       "       '% Played Video', '% Posted in Forum', '% Grade Higher Than Zero',\n",
       "       'Total Course Hours (Thousands)', 'Median Hours for Certification',\n",
       "       'Median Age', '% Male', '% Female', '% Bachelor's Degree or Higher'],\n",
       "      dtype='object')"
      ]
     },
     "execution_count": 5,
     "metadata": {},
     "output_type": "execute_result"
    }
   ],
   "source": [
    "df.columns"
   ]
  },
  {
   "cell_type": "code",
   "execution_count": 6,
   "metadata": {},
   "outputs": [],
   "source": [
    "df=df[['Launch Date','Course Title','Instructors','Course Subject','Honor Code Certificates','Total Course Hours (Thousands)','% Bachelor\\'s Degree or Higher']]"
   ]
  },
  {
   "cell_type": "code",
   "execution_count": 7,
   "metadata": {},
   "outputs": [
    {
     "data": {
      "text/plain": [
       "Index(['Launch Date', 'Course Title', 'Instructors', 'Course Subject',\n",
       "       'Honor Code Certificates', 'Total Course Hours (Thousands)',\n",
       "       '% Bachelor's Degree or Higher'],\n",
       "      dtype='object')"
      ]
     },
     "execution_count": 7,
     "metadata": {},
     "output_type": "execute_result"
    }
   ],
   "source": [
    "df.columns"
   ]
  },
  {
   "cell_type": "code",
   "execution_count": 8,
   "metadata": {},
   "outputs": [
    {
     "data": {
      "text/html": [
       "<div>\n",
       "<style scoped>\n",
       "    .dataframe tbody tr th:only-of-type {\n",
       "        vertical-align: middle;\n",
       "    }\n",
       "\n",
       "    .dataframe tbody tr th {\n",
       "        vertical-align: top;\n",
       "    }\n",
       "\n",
       "    .dataframe thead th {\n",
       "        text-align: right;\n",
       "    }\n",
       "</style>\n",
       "<table border=\"1\" class=\"dataframe\">\n",
       "  <thead>\n",
       "    <tr style=\"text-align: right;\">\n",
       "      <th></th>\n",
       "      <th>Launch Date</th>\n",
       "      <th>Course Title</th>\n",
       "      <th>Instructors</th>\n",
       "      <th>Course Subject</th>\n",
       "      <th>Honor Code Certificates</th>\n",
       "      <th>Total Course Hours (Thousands)</th>\n",
       "      <th>% Bachelor's Degree or Higher</th>\n",
       "    </tr>\n",
       "  </thead>\n",
       "  <tbody>\n",
       "    <tr>\n",
       "      <th>0</th>\n",
       "      <td>09/05/2012</td>\n",
       "      <td>Circuits and Electronics</td>\n",
       "      <td>Khurram Afridi</td>\n",
       "      <td>Science, Technology, Engineering, and Mathematics</td>\n",
       "      <td>1</td>\n",
       "      <td>418.94</td>\n",
       "      <td>60.68</td>\n",
       "    </tr>\n",
       "  </tbody>\n",
       "</table>\n",
       "</div>"
      ],
      "text/plain": [
       "  Launch Date              Course Title     Instructors  \\\n",
       "0  09/05/2012  Circuits and Electronics  Khurram Afridi   \n",
       "\n",
       "                                      Course Subject  Honor Code Certificates  \\\n",
       "0  Science, Technology, Engineering, and Mathematics                        1   \n",
       "\n",
       "   Total Course Hours (Thousands)  % Bachelor's Degree or Higher  \n",
       "0                          418.94                          60.68  "
      ]
     },
     "execution_count": 8,
     "metadata": {},
     "output_type": "execute_result"
    }
   ],
   "source": [
    "df.head(1)"
   ]
  },
  {
   "cell_type": "markdown",
   "metadata": {},
   "source": [
    "Condition 1"
   ]
  },
  {
   "cell_type": "code",
   "execution_count": 9,
   "metadata": {},
   "outputs": [],
   "source": [
    "df['Course_Level']=df['% Bachelor\\'s Degree or Higher'].apply(lambda x: 'Advanced' if x > 50 else 'Beginner')"
   ]
  },
  {
   "cell_type": "markdown",
   "metadata": {},
   "source": [
    "Condition 4"
   ]
  },
  {
   "cell_type": "code",
   "execution_count": 10,
   "metadata": {},
   "outputs": [],
   "source": [
    "df['Pre_Requirement']='No Prerequisite'"
   ]
  },
  {
   "cell_type": "markdown",
   "metadata": {},
   "source": [
    "Condition 6"
   ]
  },
  {
   "cell_type": "code",
   "execution_count": 11,
   "metadata": {},
   "outputs": [],
   "source": [
    "np.random.seed(0)\n",
    "num_courses = len(df)\n",
    "half_num_courses = num_courses // 2\n",
    "free_courses_indices = np.random.choice(num_courses, half_num_courses, replace=False)\n",
    "course_prices = np.zeros(num_courses)\n",
    "remaining_indices = [i for i in range(num_courses) if i not in free_courses_indices]\n",
    "remaining_prices = np.random.randint(0, 1001, len(remaining_indices))\n",
    "remaining_prices = np.round(remaining_prices / 25) * 25\n",
    "course_prices[remaining_indices] = remaining_prices"
   ]
  },
  {
   "cell_type": "code",
   "execution_count": 12,
   "metadata": {},
   "outputs": [],
   "source": [
    "df['Course_Price'] = course_prices"
   ]
  },
  {
   "cell_type": "markdown",
   "metadata": {},
   "source": [
    "Condition 8"
   ]
  },
  {
   "cell_type": "code",
   "execution_count": 13,
   "metadata": {},
   "outputs": [],
   "source": [
    "df['Placement_Opportunity'] = np.random.choice(['Yes', 'No'], size=len(df))"
   ]
  },
  {
   "cell_type": "markdown",
   "metadata": {},
   "source": [
    "Condition 11"
   ]
  },
  {
   "cell_type": "code",
   "execution_count": 14,
   "metadata": {},
   "outputs": [],
   "source": [
    "df['Course_Relevancy'] = pd.to_datetime(df['Launch Date'], format='%m/%d/%Y').dt.year"
   ]
  },
  {
   "cell_type": "markdown",
   "metadata": {},
   "source": [
    "Condition 13"
   ]
  },
  {
   "cell_type": "code",
   "execution_count": 15,
   "metadata": {},
   "outputs": [],
   "source": [
    "df['Expected_Package'] = np.random.randint(3, 26, size=len(df))"
   ]
  },
  {
   "cell_type": "markdown",
   "metadata": {},
   "source": [
    "Condition 14"
   ]
  },
  {
   "cell_type": "code",
   "execution_count": 16,
   "metadata": {},
   "outputs": [],
   "source": [
    "df['EMI_Available'] = np.where(df['Course_Price'] > 0, np.random.choice(['Yes', 'No'], size=len(df)), 'No')"
   ]
  },
  {
   "cell_type": "markdown",
   "metadata": {},
   "source": [
    "Condition 15"
   ]
  },
  {
   "cell_type": "code",
   "execution_count": 17,
   "metadata": {},
   "outputs": [],
   "source": [
    "df['Financial_Aid'] = np.random.choice(['Yes', 'No'], size=len(df))"
   ]
  },
  {
   "cell_type": "markdown",
   "metadata": {},
   "source": [
    "Condition 16"
   ]
  },
  {
   "cell_type": "code",
   "execution_count": 20,
   "metadata": {},
   "outputs": [],
   "source": [
    "df['Offer_Certificate']=np.where(df['Honor Code Certificates'] == 1, 'Yes', 'No')"
   ]
  },
  {
   "cell_type": "code",
   "execution_count": 31,
   "metadata": {},
   "outputs": [
    {
     "data": {
      "text/plain": [
       "Index(['Course Title', 'Instructors', 'Course Subject',\n",
       "       'Total Course Hours (Thousands)', 'Course_Level', 'Pre_Requirement',\n",
       "       'Course_Price', 'Placement_Opportunity', 'Course_Relevancy',\n",
       "       'Expected_Package', 'EMI_Available', 'Financial_Aid',\n",
       "       'Offer_Certificate'],\n",
       "      dtype='object')"
      ]
     },
     "execution_count": 31,
     "metadata": {},
     "output_type": "execute_result"
    }
   ],
   "source": [
    "df.columns"
   ]
  },
  {
   "cell_type": "code",
   "execution_count": 45,
   "metadata": {},
   "outputs": [],
   "source": [
    "def create_string(row):\n",
    "    if row['Course_Price']==0:\n",
    "        return f\"\\\"Title\\\": {row['Course Title']}, \\\"Level\\\": {row['Course_Level']}, \\\"Price\\\": Free, \\\"Duration\\\": {row['Total Course Hours (Thousands)']}, \\\"Pre_Requirement\\\": {row['Pre_Requirement']}, \\\"Placement_Opportunity\\\": {row['Placement_Opportunity']}, \\\"Course_Relevancy\\\": Based on {row['Course_Relevancy']} Market Demand, \\\"Expected_Package\\\": {row['Expected_Package']} to {row['Expected_Package']+1} LPA, \\\"EMI_Available\\\": {row['EMI_Available']}, \\\"Financial_Aid\\\": {row['Financial_Aid']}, \\\"Offer_Certificate\\\": {row['Offer_Certificate']}, \\\"Metadata\\\": {row['Course Subject']}\"\n",
    "    else:\n",
    "        return f\"\\\"Title\\\": {row['Course Title']}, \\\"Level\\\": {row['Course_Level']}, \\\"Price\\\": {row['Course_Price']}, \\\"Duration\\\": {row['Total Course Hours (Thousands)']}, \\\"Pre_Requirement\\\": {row['Pre_Requirement']}, \\\"Placement_Opportunity\\\": {row['Placement_Opportunity']}, \\\"Course_Relevancy\\\": Based on {row['Course_Relevancy']} Market Demand, \\\"Expected_Package\\\": {row['Expected_Package']} to {row['Expected_Package']+1} LPA, \\\"EMI_Available\\\": {row['EMI_Available']}, \\\"Financial_Aid\\\": {row['Financial_Aid']}, \\\"Offer_Certificate\\\": {row['Offer_Certificate']}, \\\"Metadata\\\": {row['Course Subject']}\""
   ]
  },
  {
   "cell_type": "code",
   "execution_count": 46,
   "metadata": {},
   "outputs": [],
   "source": [
    "df['soup'] = df.apply(create_string, axis=1)"
   ]
  },
  {
   "cell_type": "code",
   "execution_count": 47,
   "metadata": {},
   "outputs": [
    {
     "data": {
      "text/plain": [
       "'\"Title\": Circuits and Electronics, \"Level\": Advanced, \"Price\": 350.0, \"Duration\": 418.94, \"Pre_Requirement\": No Prerequisite, \"Placement_Opportunity\": Yes, \"Course_Relevancy\": Based on 2012 Market Demand, \"Expected_Package\": 8 to 9 LPA, \"EMI_Available\": Yes, \"Financial_Aid\": No, \"Offer_Certificate\": Yes, \"Metadata\": Science, Technology, Engineering, and Mathematics'"
      ]
     },
     "execution_count": 47,
     "metadata": {},
     "output_type": "execute_result"
    }
   ],
   "source": [
    "df['soup'][0]"
   ]
  },
  {
   "cell_type": "code",
   "execution_count": 48,
   "metadata": {},
   "outputs": [],
   "source": [
    "df.to_csv('./Dataset/updated_appendix.csv', index=False)"
   ]
  },
  {
   "cell_type": "code",
   "execution_count": 5,
   "metadata": {},
   "outputs": [],
   "source": [
    "from langchain_community.embeddings import HuggingFaceEmbeddings"
   ]
  },
  {
   "cell_type": "code",
   "execution_count": 6,
   "metadata": {},
   "outputs": [],
   "source": [
    "embeddings = HuggingFaceEmbeddings()"
   ]
  },
  {
   "cell_type": "code",
   "execution_count": 7,
   "metadata": {},
   "outputs": [],
   "source": [
    "from langchain_pinecone import PineconeVectorStore\n",
    "\n",
    "index_name = \"edu-website-chatbot\"\n",
    "\n",
    "vectorstore = PineconeVectorStore(index_name=index_name, embedding=embeddings)"
   ]
  },
  {
   "cell_type": "code",
   "execution_count": 52,
   "metadata": {},
   "outputs": [],
   "source": [
    "for i in range(len(df['soup'])):\n",
    "    vectorstore.add_texts([df['soup'][i]])"
   ]
  },
  {
   "cell_type": "code",
   "execution_count": 12,
   "metadata": {},
   "outputs": [],
   "source": [
    "def retrieve_query(query,k=3):\n",
    "    matching_reults=vectorstore.similarity_search(query,k=k)\n",
    "    return matching_reults"
   ]
  },
  {
   "cell_type": "code",
   "execution_count": null,
   "metadata": {},
   "outputs": [],
   "source": [
    "# # Retrieve more documents with higher diversity\n",
    "# # Useful if your dataset has many similar documents\n",
    "# docsearch.as_retriever(\n",
    "#     search_type=\"mmr\",\n",
    "#     search_kwargs={'k': 6, 'lambda_mult': 0.25}\n",
    "# )\n",
    "# # Fetch more documents for the MMR algorithm to consider\n",
    "# # But only return the top 5\n",
    "# docsearch.as_retriever(\n",
    "#     search_type=\"mmr\",\n",
    "#     search_kwargs={'k': 5, 'fetch_k': 50}\n",
    "# )\n",
    "# # Only retrieve documents that have a relevance score\n",
    "# # Above a certain threshold\n",
    "# docsearch.as_retriever(\n",
    "#     search_type=\"similarity_score_threshold\",\n",
    "#     search_kwargs={'score_threshold': 0.8}\n",
    "# )\n",
    "# # Only get the single most similar document from the dataset\n",
    "# docsearch.as_retriever(search_kwargs={'k': 1})"
   ]
  },
  {
   "cell_type": "code",
   "execution_count": 13,
   "metadata": {},
   "outputs": [],
   "source": [
    "def retrieve_answers(query):\n",
    "    doc_search=retrieve_query(query)\n",
    "    return doc_search\n",
    "    # response = chain.run(input_documents=doc_search,question=query)\n",
    "    # return response"
   ]
  },
  {
   "cell_type": "code",
   "execution_count": 14,
   "metadata": {},
   "outputs": [
    {
     "name": "stdout",
     "output_type": "stream",
     "text": [
      "\"Question\": is there any doubt support? ; \"Answer\": Our courses offer comprehensive doubt support for enhanced learning, where the course mentors answers the doubts themselves \n",
      "\"Question\": Where to get testimonials? ; \"Answer\": Testimonials are available in our course reviews section for authentic feedback.\n",
      "\"Question\": is there a money back gurantee? ; \"Answer\": We offer a money-back guarantee to ensure customer satisfaction.\n"
     ]
    }
   ],
   "source": [
    "query=\"do you provide doubt support?\"\n",
    "results=retrieve_answers(query=query)\n",
    "for answer in results:\n",
    "    print(answer.page_content)"
   ]
  },
  {
   "cell_type": "markdown",
   "metadata": {},
   "source": [
    "adding answers to the static question of the FAQ database"
   ]
  },
  {
   "cell_type": "markdown",
   "metadata": {},
   "source": [
    "1. Learn at own pace -> always true\n",
    "3. what kind of assignment do you give -> static answer\n",
    "7. Doubt Support -> static answer\n",
    "9. How is course different from others -> static answer\n",
    "10. Money back gurantee -> static answer\n",
    "17. Where to get testimonials -> static answer(in course reviews)"
   ]
  },
  {
   "cell_type": "code",
   "execution_count": 8,
   "metadata": {},
   "outputs": [],
   "source": [
    "arr=['\"Question\": Can student learn at their own pace? ; \"Answer\": yes, all the courses will help the students learn at their own pace by providing recorded video lectures',\n",
    "     '\"Question\": What kind of assignments are available? ; \"Answer\": assignments are provided by the course mentors based on the course material, time to time as the course proceeds',\n",
    "     '\"Question\": is there any doubt support? ; \"Answer\": Our courses offer comprehensive doubt support for enhanced learning, where the course mentors answers the doubts themselves ',\n",
    "     '\"Question\": How is course different from others? ; \"Answer\":Our courses stand out through personalized learning experiences tailored to individual needs.',\n",
    "     '\"Question\": is there a money back gurantee? ; \"Answer\": We offer a money-back guarantee to ensure customer satisfaction.',\n",
    "     '\"Question\": Where to get testimonials? ; \"Answer\": Testimonials are available in our course reviews section for authentic feedback.']"
   ]
  },
  {
   "cell_type": "code",
   "execution_count": 10,
   "metadata": {},
   "outputs": [],
   "source": [
    "for Str in arr:\n",
    "    vectorstore.add_texts([Str])"
   ]
  }
 ],
 "metadata": {
  "kernelspec": {
   "display_name": "Python 3",
   "language": "python",
   "name": "python3"
  },
  "language_info": {
   "codemirror_mode": {
    "name": "ipython",
    "version": 3
   },
   "file_extension": ".py",
   "mimetype": "text/x-python",
   "name": "python",
   "nbconvert_exporter": "python",
   "pygments_lexer": "ipython3",
   "version": "3.11.5"
  }
 },
 "nbformat": 4,
 "nbformat_minor": 2
}
